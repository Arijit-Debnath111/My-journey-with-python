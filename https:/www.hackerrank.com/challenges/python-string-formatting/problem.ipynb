{
 "cells": [
  {
   "cell_type": "code",
   "execution_count": null,
   "id": "7be6d65d",
   "metadata": {},
   "outputs": [],
   "source": [
    "import math\n",
    "def print_formatted(number):\n",
    "    max_length = math.floor(math.log(n, 2)) + 1\n",
    "    for i in range(1, n+1):\n",
    "        d = str(i).rjust(max_length)\n",
    "        o = str(oct(i))[2:].rjust(max_length)\n",
    "        h = str(hex(i))[2:].upper().rjust(max_length)\n",
    "        b = bin(i)[2:].lstrip('0').rjust(max_length)\n",
    "        print('{} {} {} {}'.format(d,o,h,b))\n",
    "\n",
    "\n",
    "if __name__ == '__main__':\n",
    "    n = int(input())\n",
    "    print_formatted(n)"
   ]
  },
  {
   "cell_type": "code",
   "execution_count": null,
   "id": "b1909267",
   "metadata": {},
   "outputs": [],
   "source": []
  }
 ],
 "metadata": {
  "kernelspec": {
   "display_name": "Python 3 (ipykernel)",
   "language": "python",
   "name": "python3"
  },
  "language_info": {
   "codemirror_mode": {
    "name": "ipython",
    "version": 3
   },
   "file_extension": ".py",
   "mimetype": "text/x-python",
   "name": "python",
   "nbconvert_exporter": "python",
   "pygments_lexer": "ipython3",
   "version": "3.9.7"
  }
 },
 "nbformat": 4,
 "nbformat_minor": 5
}
