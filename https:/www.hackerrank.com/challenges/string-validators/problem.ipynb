{
 "cells": [
  {
   "cell_type": "code",
   "execution_count": null,
   "id": "a22dc94a",
   "metadata": {},
   "outputs": [],
   "source": [
    "if __name__ == '__main__':\n",
    "    s = input()\n",
    "    alnm = 'False'\n",
    "    alp = 'False'\n",
    "    dig = 'False'\n",
    "    low = 'False'\n",
    "    upp = 'False'\n",
    "    for i in s:\n",
    "        if i.isalnum():\n",
    "            alnm = 'True'\n",
    "        if i.isalpha():\n",
    "            alp = 'True'\n",
    "        if i.isdigit():\n",
    "            dig = 'True'\n",
    "        if i.islower():\n",
    "            low = 'True'\n",
    "        if i.isupper():\n",
    "            upp = 'True'\n",
    "print(alnm + '\\n'+ alp + '\\n'+dig + '\\n'+ low+ '\\n'+upp)\n"
   ]
  },
  {
   "cell_type": "code",
   "execution_count": null,
   "id": "b7428b12",
   "metadata": {},
   "outputs": [],
   "source": []
  }
 ],
 "metadata": {
  "kernelspec": {
   "display_name": "Python 3",
   "language": "python",
   "name": "python3"
  },
  "language_info": {
   "codemirror_mode": {
    "name": "ipython",
    "version": 3
   },
   "file_extension": ".py",
   "mimetype": "text/x-python",
   "name": "python",
   "nbconvert_exporter": "python",
   "pygments_lexer": "ipython3",
   "version": "3.8.8"
  }
 },
 "nbformat": 4,
 "nbformat_minor": 5
}
